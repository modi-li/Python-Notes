{
 "cells": [
  {
   "cell_type": "markdown",
   "id": "dbfe886b",
   "metadata": {},
   "source": [
    "# Python Basics and Techniques"
   ]
  },
  {
   "cell_type": "markdown",
   "id": "f768f5ed",
   "metadata": {},
   "source": [
    "## Number"
   ]
  },
  {
   "cell_type": "markdown",
   "id": "a62f950f",
   "metadata": {},
   "source": [
    "### Check if the value of a number is an integer"
   ]
  },
  {
   "cell_type": "code",
   "execution_count": 1,
   "id": "96357a3f",
   "metadata": {},
   "outputs": [
    {
     "name": "stdout",
     "output_type": "stream",
     "text": [
      "True\n",
      "True\n",
      "False\n"
     ]
    }
   ],
   "source": [
    "print((27).is_integer())\n",
    "print((12.0).is_integer())\n",
    "print((3.14).is_integer())"
   ]
  },
  {
   "cell_type": "markdown",
   "id": "8425fad8",
   "metadata": {},
   "source": [
    "## String"
   ]
  },
  {
   "cell_type": "markdown",
   "id": "933572a9",
   "metadata": {},
   "source": [
    "### Check if all characters of a string are uppercased or lowercased"
   ]
  },
  {
   "cell_type": "code",
   "execution_count": 2,
   "id": "fd343781",
   "metadata": {},
   "outputs": [
    {
     "name": "stdout",
     "output_type": "stream",
     "text": [
      "True\n",
      "False\n",
      "True\n"
     ]
    }
   ],
   "source": [
    "print(\"ABC\".isupper())\n",
    "print(\"Abc\".islower())\n",
    "print(\"ABC123\".isupper())"
   ]
  },
  {
   "cell_type": "markdown",
   "id": "889f702b",
   "metadata": {},
   "source": [
    "### Check if all characters of a string are digits"
   ]
  },
  {
   "cell_type": "code",
   "execution_count": 3,
   "id": "4a61485c",
   "metadata": {},
   "outputs": [
    {
     "name": "stdout",
     "output_type": "stream",
     "text": [
      "True\n",
      "False\n",
      "False\n",
      "False\n"
     ]
    }
   ],
   "source": [
    "print(\"123\".isdigit())\n",
    "print(\"-123\".isdigit())\n",
    "print(\"abc123\".isdigit())\n",
    "print(\"\".isdigit())"
   ]
  },
  {
   "cell_type": "markdown",
   "id": "7c866d5f",
   "metadata": {},
   "source": [
    "### Check if all characters of a string are alphabetic"
   ]
  },
  {
   "cell_type": "code",
   "execution_count": 4,
   "id": "5ea66bc9",
   "metadata": {},
   "outputs": [
    {
     "name": "stdout",
     "output_type": "stream",
     "text": [
      "True\n",
      "False\n",
      "False\n",
      "False\n"
     ]
    }
   ],
   "source": [
    "print(\"abc\".isalpha())\n",
    "print(\"ab-\".isalpha())\n",
    "print(\"a.b\".isalpha())\n",
    "print(\"\".isalpha())"
   ]
  },
  {
   "cell_type": "markdown",
   "id": "06246a8d",
   "metadata": {},
   "source": [
    "### Check if all characters of a string are alpha-numeric"
   ]
  },
  {
   "cell_type": "code",
   "execution_count": 5,
   "id": "cb48e5ab",
   "metadata": {},
   "outputs": [
    {
     "name": "stdout",
     "output_type": "stream",
     "text": [
      "True\n",
      "True\n",
      "False\n",
      "False\n"
     ]
    }
   ],
   "source": [
    "print(\"abc\".isalnum())\n",
    "print(\"Abc1\".isalnum())\n",
    "print(\"abc.1\".isalnum())\n",
    "print(\"\".isalnum())"
   ]
  },
  {
   "cell_type": "markdown",
   "id": "454eb192",
   "metadata": {},
   "source": [
    "### Check if a string represents a number"
   ]
  },
  {
   "cell_type": "code",
   "execution_count": 6,
   "id": "c5c77692",
   "metadata": {},
   "outputs": [
    {
     "name": "stdout",
     "output_type": "stream",
     "text": [
      "True\n",
      "True\n",
      "True\n",
      "True\n",
      "False\n",
      "False\n"
     ]
    }
   ],
   "source": [
    "def str_is_numerical(s):\n",
    "    try:\n",
    "        float(s)\n",
    "        return True\n",
    "    except ValueError:\n",
    "        return False\n",
    "\n",
    "print(str_is_numerical(\"12\"))\n",
    "print(str_is_numerical(\"7.3\"))\n",
    "print(str_is_numerical(\"-1.3\"))\n",
    "print(str_is_numerical(\"1.26e8\"))\n",
    "print(str_is_numerical(\"a\"))\n",
    "print(str_is_numerical(\"1.2.3\"))"
   ]
  },
  {
   "cell_type": "markdown",
   "id": "0d0f4a11",
   "metadata": {},
   "source": [
    "### Sort a string"
   ]
  },
  {
   "cell_type": "code",
   "execution_count": 7,
   "id": "ebb35bc0",
   "metadata": {},
   "outputs": [
    {
     "data": {
      "text/plain": [
       "'abcdef'"
      ]
     },
     "execution_count": 7,
     "metadata": {},
     "output_type": "execute_result"
    }
   ],
   "source": [
    "my_str_1 = \"efadbc\"\n",
    "my_str_2 = \"\".join(sorted(my_str_1))\n",
    "my_str_2"
   ]
  },
  {
   "cell_type": "markdown",
   "id": "3f9a8895",
   "metadata": {},
   "source": [
    "### Reverse a string"
   ]
  },
  {
   "cell_type": "markdown",
   "id": "32de2f93",
   "metadata": {},
   "source": [
    "Method 1:"
   ]
  },
  {
   "cell_type": "code",
   "execution_count": 8,
   "id": "b92937b1",
   "metadata": {},
   "outputs": [
    {
     "data": {
      "text/plain": [
       "'fedcba'"
      ]
     },
     "execution_count": 8,
     "metadata": {},
     "output_type": "execute_result"
    }
   ],
   "source": [
    "my_str_1 = \"abcdef\"\n",
    "my_str_2 = my_str_1[::-1]\n",
    "my_str_2"
   ]
  },
  {
   "cell_type": "markdown",
   "id": "d9f175fc",
   "metadata": {},
   "source": [
    "Method 2:"
   ]
  },
  {
   "cell_type": "code",
   "execution_count": 9,
   "id": "e5a765db",
   "metadata": {},
   "outputs": [
    {
     "data": {
      "text/plain": [
       "'fedcba'"
      ]
     },
     "execution_count": 9,
     "metadata": {},
     "output_type": "execute_result"
    }
   ],
   "source": [
    "my_str_1 = \"abcdef\"\n",
    "my_str_2 = \"\".join(reversed(my_str_1))\n",
    "my_str_2"
   ]
  },
  {
   "cell_type": "markdown",
   "id": "496d5daa",
   "metadata": {},
   "source": [
    "### Split a string"
   ]
  },
  {
   "cell_type": "code",
   "execution_count": 10,
   "id": "99cc865b",
   "metadata": {},
   "outputs": [
    {
     "data": {
      "text/plain": [
       "['Hello', 'World']"
      ]
     },
     "execution_count": 10,
     "metadata": {},
     "output_type": "execute_result"
    }
   ],
   "source": [
    "my_str = \"Hello World\"\n",
    "my_list = my_str.split()  # default: split by any whitespace; not inplace\n",
    "my_list"
   ]
  },
  {
   "cell_type": "code",
   "execution_count": 11,
   "id": "fe6554de",
   "metadata": {},
   "outputs": [
    {
     "data": {
      "text/plain": [
       "['AB', 'C']"
      ]
     },
     "execution_count": 11,
     "metadata": {},
     "output_type": "execute_result"
    }
   ],
   "source": [
    "my_str = \"AB,C\"\n",
    "my_list = my_str.split(\",\")  # split by \",\"; not inplace\n",
    "my_list"
   ]
  },
  {
   "cell_type": "code",
   "execution_count": 12,
   "id": "06231ea2",
   "metadata": {},
   "outputs": [
    {
     "data": {
      "text/plain": [
       "['A', 'B', 'C#D#E']"
      ]
     },
     "execution_count": 12,
     "metadata": {},
     "output_type": "execute_result"
    }
   ],
   "source": [
    "my_str = \"A#B#C#D#E\"\n",
    "my_list = my_str.split(\"#\", maxsplit=2)  # `maxsplit`: maximum number of splits; will be split into `maxsplit` + 1 parts; not inplace\n",
    "my_list"
   ]
  },
  {
   "cell_type": "markdown",
   "id": "183c437e",
   "metadata": {},
   "source": [
    "### Convert all characters of a string to uppercase or lowercase"
   ]
  },
  {
   "cell_type": "code",
   "execution_count": 13,
   "id": "42cd84d8",
   "metadata": {},
   "outputs": [
    {
     "data": {
      "text/plain": [
       "'ABC'"
      ]
     },
     "execution_count": 13,
     "metadata": {},
     "output_type": "execute_result"
    }
   ],
   "source": [
    "my_str_1 = \"Abc\"\n",
    "my_str_2 = my_str_1.upper()  # not inplace\n",
    "my_str_2"
   ]
  },
  {
   "cell_type": "code",
   "execution_count": 14,
   "id": "de1f8ec9",
   "metadata": {},
   "outputs": [
    {
     "data": {
      "text/plain": [
       "'abc'"
      ]
     },
     "execution_count": 14,
     "metadata": {},
     "output_type": "execute_result"
    }
   ],
   "source": [
    "my_str_1 = \"Abc\"\n",
    "my_str_2 = my_str_1.lower()  # not inplace\n",
    "my_str_2"
   ]
  },
  {
   "cell_type": "markdown",
   "id": "97654589",
   "metadata": {},
   "source": [
    "### Convert a string to a list of its characters"
   ]
  },
  {
   "cell_type": "code",
   "execution_count": 15,
   "id": "1bb1df7c",
   "metadata": {},
   "outputs": [
    {
     "data": {
      "text/plain": [
       "['a', 'b', 'c', 'd', 'e', 'f']"
      ]
     },
     "execution_count": 15,
     "metadata": {},
     "output_type": "execute_result"
    }
   ],
   "source": [
    "my_str = \"abcdef\"\n",
    "my_list = list(my_str)\n",
    "my_list"
   ]
  },
  {
   "cell_type": "markdown",
   "id": "b449eb0d",
   "metadata": {},
   "source": [
    "## List"
   ]
  },
  {
   "cell_type": "markdown",
   "metadata": {},
   "source": [
    "### Get the maximum or minimum value in a list"
   ]
  },
  {
   "cell_type": "code",
   "execution_count": 16,
   "id": "8dd9165f",
   "metadata": {},
   "outputs": [
    {
     "data": {
      "text/plain": [
       "(42, 3)"
      ]
     },
     "execution_count": 16,
     "metadata": {},
     "output_type": "execute_result"
    }
   ],
   "source": [
    "my_list = [7, 22, 9, 14, 3, 42]\n",
    "max(my_list), min(my_list)"
   ]
  },
  {
   "cell_type": "markdown",
   "id": "817bdb03",
   "metadata": {},
   "source": [
    "### Get the number of times a value appears in a list"
   ]
  },
  {
   "cell_type": "code",
   "execution_count": 17,
   "id": "85436344",
   "metadata": {},
   "outputs": [
    {
     "data": {
      "text/plain": [
       "3"
      ]
     },
     "execution_count": 17,
     "metadata": {},
     "output_type": "execute_result"
    }
   ],
   "source": [
    "my_list = [\"a\", \"b\", \"c\", \"c\", \"c\", \"d\", \"d\", \"e\"]\n",
    "my_list.count(\"c\")"
   ]
  },
  {
   "cell_type": "markdown",
   "id": "791e0219",
   "metadata": {},
   "source": [
    "### Check if all elements in a list are equal"
   ]
  },
  {
   "cell_type": "markdown",
   "id": "0133a1ab",
   "metadata": {},
   "source": [
    "Method 1:"
   ]
  },
  {
   "cell_type": "code",
   "execution_count": 18,
   "id": "3318ea6b",
   "metadata": {},
   "outputs": [
    {
     "data": {
      "text/plain": [
       "True"
      ]
     },
     "execution_count": 18,
     "metadata": {},
     "output_type": "execute_result"
    }
   ],
   "source": [
    "my_list = [\"a\", \"a\", \"a\"]\n",
    "all_equal = all(item == my_list[0] for item in my_list)\n",
    "all_equal"
   ]
  },
  {
   "cell_type": "markdown",
   "id": "aba96d68",
   "metadata": {},
   "source": [
    "Method 2:"
   ]
  },
  {
   "cell_type": "code",
   "execution_count": 19,
   "id": "c28a75dd",
   "metadata": {},
   "outputs": [
    {
     "data": {
      "text/plain": [
       "False"
      ]
     },
     "execution_count": 19,
     "metadata": {},
     "output_type": "execute_result"
    }
   ],
   "source": [
    "my_list = [1, 2, 3]\n",
    "all_equal = my_list.count(my_list[0]) == len(my_list)\n",
    "all_equal"
   ]
  },
  {
   "cell_type": "markdown",
   "id": "53b8f0c7",
   "metadata": {},
   "source": [
    "### Sort a list"
   ]
  },
  {
   "cell_type": "markdown",
   "id": "5dd131dc",
   "metadata": {},
   "source": [
    "#### Inplace"
   ]
  },
  {
   "cell_type": "code",
   "execution_count": 20,
   "id": "0f0e9c2f",
   "metadata": {},
   "outputs": [
    {
     "data": {
      "text/plain": [
       "[1, 2, 3, 4, 5]"
      ]
     },
     "execution_count": 20,
     "metadata": {},
     "output_type": "execute_result"
    }
   ],
   "source": [
    "my_list = [2, 5, 4, 1, 3]\n",
    "my_list.sort()  # default: sort in ascending order (`reverse=False`)\n",
    "my_list"
   ]
  },
  {
   "cell_type": "code",
   "execution_count": 21,
   "id": "375ff587",
   "metadata": {},
   "outputs": [],
   "source": [
    "my_list = [2, 5, 4, 1, 3]\n",
    "my_list.sort(reverse=True)  # sort in descending order"
   ]
  },
  {
   "cell_type": "code",
   "execution_count": 22,
   "id": "71217cc1",
   "metadata": {},
   "outputs": [
    {
     "data": {
      "text/plain": [
       "[(1, 4), (1, 3), (3, 8), (5, 2), (9, 7)]"
      ]
     },
     "execution_count": 22,
     "metadata": {},
     "output_type": "execute_result"
    }
   ],
   "source": [
    "my_list = [(1,4), (3,8), (5,2), (1,3), (9,7)]\n",
    "my_list.sort(key=lambda item: item[0])  # sort by the first element of each item\n",
    "my_list"
   ]
  },
  {
   "cell_type": "code",
   "execution_count": 23,
   "id": "b1707e26",
   "metadata": {},
   "outputs": [
    {
     "data": {
      "text/plain": [
       "[(1, 3), (1, 4), (3, 8), (5, 2), (9, 7)]"
      ]
     },
     "execution_count": 23,
     "metadata": {},
     "output_type": "execute_result"
    }
   ],
   "source": [
    "my_list = [(1,4), (3,8), (5,2), (1,3), (9,7)]\n",
    "my_list.sort(key=lambda item: (item[0], item[1]))  # sort by the first element of each item, and sort by the second element of an item if there is a tie\n",
    "my_list"
   ]
  },
  {
   "cell_type": "markdown",
   "id": "80d6d3f5",
   "metadata": {},
   "source": [
    "#### Not inplace"
   ]
  },
  {
   "cell_type": "code",
   "execution_count": 24,
   "id": "6cbdb57a",
   "metadata": {},
   "outputs": [
    {
     "data": {
      "text/plain": [
       "[1, 2, 3, 4, 5]"
      ]
     },
     "execution_count": 24,
     "metadata": {},
     "output_type": "execute_result"
    }
   ],
   "source": [
    "my_list_1 = [2, 5, 4, 1, 3]\n",
    "my_list_2 = sorted(my_list_1)  # similar to `sort()`\n",
    "my_list_2"
   ]
  },
  {
   "cell_type": "code",
   "execution_count": 25,
   "id": "d0c9f650",
   "metadata": {},
   "outputs": [
    {
     "data": {
      "text/plain": [
       "[5, 4, 3, 2, 1]"
      ]
     },
     "execution_count": 25,
     "metadata": {},
     "output_type": "execute_result"
    }
   ],
   "source": [
    "my_list_1 = [2, 5, 4, 1, 3]\n",
    "my_list_2 = sorted(my_list_1, reverse=True)  # similar to `sort()`\n",
    "my_list_2"
   ]
  },
  {
   "cell_type": "code",
   "execution_count": 26,
   "id": "4a85727b",
   "metadata": {},
   "outputs": [
    {
     "data": {
      "text/plain": [
       "[(1, 4), (1, 3), (3, 8), (5, 2), (9, 7)]"
      ]
     },
     "execution_count": 26,
     "metadata": {},
     "output_type": "execute_result"
    }
   ],
   "source": [
    "my_list_1 = [(1,4), (3,8), (5,2), (1,3), (9,7)]\n",
    "my_list_2 = sorted(my_list_1, key=lambda item: item[0])  # similar to `sort()`\n",
    "my_list_2"
   ]
  },
  {
   "cell_type": "code",
   "execution_count": 27,
   "id": "f6700fde",
   "metadata": {},
   "outputs": [
    {
     "data": {
      "text/plain": [
       "[(1, 3), (1, 4), (3, 8), (5, 2), (9, 7)]"
      ]
     },
     "execution_count": 27,
     "metadata": {},
     "output_type": "execute_result"
    }
   ],
   "source": [
    "my_list_1 = [(1,4), (3,8), (5,2), (1,3), (9,7)]\n",
    "my_list_2 = sorted(my_list_1, key=lambda item: (item[0], item[1]))  # similar to `sort()`\n",
    "my_list_2"
   ]
  },
  {
   "cell_type": "markdown",
   "id": "664a06e0",
   "metadata": {},
   "source": [
    "### Reverse a list"
   ]
  },
  {
   "cell_type": "markdown",
   "id": "8a628523",
   "metadata": {},
   "source": [
    "#### Inplace"
   ]
  },
  {
   "cell_type": "code",
   "execution_count": 28,
   "id": "52857e67",
   "metadata": {},
   "outputs": [
    {
     "data": {
      "text/plain": [
       "[5, 4, 3, 2, 1]"
      ]
     },
     "execution_count": 28,
     "metadata": {},
     "output_type": "execute_result"
    }
   ],
   "source": [
    "my_list = [1, 2, 3, 4, 5]\n",
    "my_list.reverse()\n",
    "my_list"
   ]
  },
  {
   "cell_type": "markdown",
   "id": "e51d3aec",
   "metadata": {},
   "source": [
    "#### Not inplace"
   ]
  },
  {
   "cell_type": "markdown",
   "id": "6fbdf1b1",
   "metadata": {},
   "source": [
    "Method 1:"
   ]
  },
  {
   "cell_type": "code",
   "execution_count": 29,
   "id": "0755b9b8",
   "metadata": {},
   "outputs": [
    {
     "data": {
      "text/plain": [
       "[5, 4, 3, 2, 1]"
      ]
     },
     "execution_count": 29,
     "metadata": {},
     "output_type": "execute_result"
    }
   ],
   "source": [
    "my_list_1 = [1, 2, 3, 4, 5]\n",
    "my_list_2 = my_list_1[::-1]\n",
    "my_list_2"
   ]
  },
  {
   "cell_type": "markdown",
   "id": "c1939724",
   "metadata": {},
   "source": [
    "Method 2:"
   ]
  },
  {
   "cell_type": "code",
   "execution_count": 30,
   "id": "e11ee68a",
   "metadata": {},
   "outputs": [
    {
     "data": {
      "text/plain": [
       "[5, 4, 3, 2, 1]"
      ]
     },
     "execution_count": 30,
     "metadata": {},
     "output_type": "execute_result"
    }
   ],
   "source": [
    "my_list_1 = [1, 2, 3, 4, 5]\n",
    "my_list_2 = list(reversed(my_list_1))\n",
    "my_list_2"
   ]
  },
  {
   "cell_type": "markdown",
   "id": "da23b60c",
   "metadata": {},
   "source": [
    "### Insert an item to a list"
   ]
  },
  {
   "cell_type": "code",
   "execution_count": 31,
   "id": "9e8560d1",
   "metadata": {},
   "outputs": [
    {
     "data": {
      "text/plain": [
       "['a', 'b', 'c', 'd', 'e', 'f']"
      ]
     },
     "execution_count": 31,
     "metadata": {},
     "output_type": "execute_result"
    }
   ],
   "source": [
    "my_list = [\"a\", \"b\", \"c\", \"e\", \"f\"]\n",
    "my_list.insert(3, \"d\")  # inserts item before index; inplace\n",
    "my_list"
   ]
  },
  {
   "cell_type": "markdown",
   "id": "4d8355cf",
   "metadata": {},
   "source": [
    "### Remove items from a list"
   ]
  },
  {
   "cell_type": "markdown",
   "id": "f3d882cc",
   "metadata": {},
   "source": [
    "#### Remove one item by index"
   ]
  },
  {
   "cell_type": "markdown",
   "id": "de23862b",
   "metadata": {},
   "source": [
    "Method 1:"
   ]
  },
  {
   "cell_type": "code",
   "execution_count": 32,
   "id": "f02cd70b",
   "metadata": {},
   "outputs": [
    {
     "data": {
      "text/plain": [
       "(['a', 'b', 'd', 'e'], 'c')"
      ]
     },
     "execution_count": 32,
     "metadata": {},
     "output_type": "execute_result"
    }
   ],
   "source": [
    "my_list = [\"a\", \"b\", \"c\", \"d\", \"e\"]\n",
    "item = my_list.pop(2)  # removes and returns the item at index (default: last item); inplace\n",
    "my_list, item"
   ]
  },
  {
   "cell_type": "markdown",
   "id": "7d215de8",
   "metadata": {},
   "source": [
    "Method 2:"
   ]
  },
  {
   "cell_type": "code",
   "execution_count": 33,
   "id": "6c56314b",
   "metadata": {},
   "outputs": [
    {
     "data": {
      "text/plain": [
       "['a', 'b', 'd', 'e']"
      ]
     },
     "execution_count": 33,
     "metadata": {},
     "output_type": "execute_result"
    }
   ],
   "source": [
    "my_list = [\"a\", \"b\", \"c\", \"d\", \"e\"]\n",
    "del my_list[2]  # inplace\n",
    "my_list"
   ]
  },
  {
   "cell_type": "markdown",
   "id": "e68dbe87",
   "metadata": {},
   "source": [
    "#### Remove the first occurrence of value"
   ]
  },
  {
   "cell_type": "code",
   "execution_count": 34,
   "id": "1af528c5",
   "metadata": {},
   "outputs": [
    {
     "data": {
      "text/plain": [
       "['a', 'b', 'c', 'e']"
      ]
     },
     "execution_count": 34,
     "metadata": {},
     "output_type": "execute_result"
    }
   ],
   "source": [
    "my_list = [\"a\", \"b\", \"c\", \"d\", \"e\"]\n",
    "my_list.remove(\"d\")  # inplace\n",
    "my_list"
   ]
  },
  {
   "cell_type": "markdown",
   "id": "8710d4f1",
   "metadata": {},
   "source": [
    "#### Remove multiple items by indices"
   ]
  },
  {
   "cell_type": "code",
   "execution_count": 35,
   "id": "3803443e",
   "metadata": {},
   "outputs": [
    {
     "data": {
      "text/plain": [
       "['a', 'd', 'e']"
      ]
     },
     "execution_count": 35,
     "metadata": {},
     "output_type": "execute_result"
    }
   ],
   "source": [
    "my_list = [\"a\", \"b\", \"c\", \"d\", \"e\"]\n",
    "del my_list[1:3]  # inplace\n",
    "my_list"
   ]
  },
  {
   "cell_type": "markdown",
   "id": "4fb46e91",
   "metadata": {},
   "source": [
    "### Apply a function to all items of a list"
   ]
  },
  {
   "cell_type": "markdown",
   "id": "ae849920",
   "metadata": {},
   "source": [
    "Method 1:"
   ]
  },
  {
   "cell_type": "code",
   "execution_count": 36,
   "id": "a5658b01",
   "metadata": {},
   "outputs": [
    {
     "data": {
      "text/plain": [
       "[24, 7, 9, 11]"
      ]
     },
     "execution_count": 36,
     "metadata": {},
     "output_type": "execute_result"
    }
   ],
   "source": [
    "my_list_1 = [\"24\", \"7\", \"9\", \"11\"]\n",
    "my_list_2 = [int(x) for x in my_list_1]\n",
    "my_list_2"
   ]
  },
  {
   "cell_type": "markdown",
   "id": "2d7ddba2",
   "metadata": {},
   "source": [
    "Method 2:"
   ]
  },
  {
   "cell_type": "code",
   "execution_count": 37,
   "id": "0a88d021",
   "metadata": {},
   "outputs": [
    {
     "data": {
      "text/plain": [
       "[24, 7, 9, 11]"
      ]
     },
     "execution_count": 37,
     "metadata": {},
     "output_type": "execute_result"
    }
   ],
   "source": [
    "my_list_1 = [\"24\", \"7\", \"9\", \"11\"]\n",
    "my_list_2 = list(map(int, my_list_1))\n",
    "my_list_2"
   ]
  },
  {
   "cell_type": "markdown",
   "id": "651ccc36",
   "metadata": {},
   "source": [
    "### Combine two lists (of same length) into a dictionary"
   ]
  },
  {
   "cell_type": "code",
   "execution_count": 38,
   "id": "8235a2ad",
   "metadata": {},
   "outputs": [],
   "source": [
    "my_list_1 = [1, 2, 3, 4, 5]\n",
    "my_list_2 = [\"a\", \"b\", \"c\", \"d\", \"e\"]"
   ]
  },
  {
   "cell_type": "markdown",
   "id": "814705a5",
   "metadata": {},
   "source": [
    "Method 1:"
   ]
  },
  {
   "cell_type": "code",
   "execution_count": 39,
   "id": "25ba5638",
   "metadata": {},
   "outputs": [
    {
     "data": {
      "text/plain": [
       "{1: 'a', 2: 'b', 3: 'c', 4: 'd', 5: 'e'}"
      ]
     },
     "execution_count": 39,
     "metadata": {},
     "output_type": "execute_result"
    }
   ],
   "source": [
    "my_dict = dict(zip(my_list_1, my_list_2))\n",
    "my_dict"
   ]
  },
  {
   "cell_type": "markdown",
   "id": "bc07f0f8",
   "metadata": {},
   "source": [
    "Method 2:"
   ]
  },
  {
   "cell_type": "code",
   "execution_count": 40,
   "id": "c34bb359",
   "metadata": {},
   "outputs": [
    {
     "data": {
      "text/plain": [
       "{1: 'a', 2: 'b', 3: 'c', 4: 'd', 5: 'e'}"
      ]
     },
     "execution_count": 40,
     "metadata": {},
     "output_type": "execute_result"
    }
   ],
   "source": [
    "my_dict = {my_list_1[i]: my_list_2[i] for i in range(len(my_list_1))}\n",
    "my_dict"
   ]
  },
  {
   "cell_type": "markdown",
   "id": "7bd1d2e3",
   "metadata": {},
   "source": [
    "Method 3:"
   ]
  },
  {
   "cell_type": "code",
   "execution_count": 41,
   "id": "35c9d2e4",
   "metadata": {},
   "outputs": [
    {
     "data": {
      "text/plain": [
       "{1: 'a', 2: 'b', 3: 'c', 4: 'd', 5: 'e'}"
      ]
     },
     "execution_count": 41,
     "metadata": {},
     "output_type": "execute_result"
    }
   ],
   "source": [
    "my_dict = dict(map(lambda a, b: (a, b), my_list_1, my_list_2))\n",
    "my_dict"
   ]
  },
  {
   "cell_type": "markdown",
   "id": "050ede75",
   "metadata": {},
   "source": [
    "## Sequence (includes string, list, tuple, range, etc.)"
   ]
  },
  {
   "cell_type": "markdown",
   "id": "667041e0",
   "metadata": {},
   "source": [
    "### Reverse a sequence"
   ]
  },
  {
   "cell_type": "code",
   "execution_count": 42,
   "id": "6666bb7d",
   "metadata": {},
   "outputs": [
    {
     "data": {
      "text/plain": [
       "'fedcba'"
      ]
     },
     "execution_count": 42,
     "metadata": {},
     "output_type": "execute_result"
    }
   ],
   "source": [
    "my_str_1 = \"abcdef\"\n",
    "my_str_2 = \"\".join(reversed(my_str_1))\n",
    "my_str_2"
   ]
  },
  {
   "cell_type": "code",
   "execution_count": 43,
   "id": "4fdbd3ec",
   "metadata": {},
   "outputs": [
    {
     "data": {
      "text/plain": [
       "[5, 4, 3, 2, 1]"
      ]
     },
     "execution_count": 43,
     "metadata": {},
     "output_type": "execute_result"
    }
   ],
   "source": [
    "my_list_1 = [1, 2, 3, 4, 5]\n",
    "my_list_2 = list(reversed(my_list_1))\n",
    "my_list_2"
   ]
  },
  {
   "cell_type": "code",
   "execution_count": 44,
   "id": "61fc646e",
   "metadata": {},
   "outputs": [
    {
     "data": {
      "text/plain": [
       "(5, 4, 3, 2, 1)"
      ]
     },
     "execution_count": 44,
     "metadata": {},
     "output_type": "execute_result"
    }
   ],
   "source": [
    "my_tuple_1 = (1, 2, 3, 4, 5)\n",
    "my_tuple_2 = tuple(reversed(my_tuple_1))\n",
    "my_tuple_2"
   ]
  },
  {
   "cell_type": "code",
   "execution_count": 45,
   "id": "aa43eca6",
   "metadata": {},
   "outputs": [
    {
     "name": "stdout",
     "output_type": "stream",
     "text": [
      "2\n",
      "1\n",
      "0\n"
     ]
    }
   ],
   "source": [
    "my_range = range(3)\n",
    "for i in reversed(my_range):\n",
    "\tprint(i)"
   ]
  },
  {
   "cell_type": "markdown",
   "id": "df2849b7",
   "metadata": {},
   "source": [
    "## Dictionary"
   ]
  },
  {
   "cell_type": "markdown",
   "id": "04dfa5ae",
   "metadata": {},
   "source": [
    "### Sort a dictionary by its keys"
   ]
  },
  {
   "cell_type": "code",
   "execution_count": 46,
   "id": "69b0ddb3",
   "metadata": {},
   "outputs": [
    {
     "data": {
      "text/plain": [
       "{1: 'orange', 2: 'apple', 3: 'lemon', 4: 'banana'}"
      ]
     },
     "execution_count": 46,
     "metadata": {},
     "output_type": "execute_result"
    }
   ],
   "source": [
    "my_dict_1 = {2: \"apple\", 1: \"orange\", 4: \"banana\", 3: \"lemon\"}\n",
    "my_dict_2 = dict(sorted(my_dict_1.items()))\n",
    "my_dict_2"
   ]
  },
  {
   "cell_type": "markdown",
   "id": "d928fc99",
   "metadata": {},
   "source": [
    "### Sort a dictionary by its keys applied with a function"
   ]
  },
  {
   "cell_type": "code",
   "execution_count": 47,
   "id": "c17cda95",
   "metadata": {},
   "outputs": [
    {
     "data": {
      "text/plain": [
       "{'1': 'orange', '2': 'apple', '3': 'lemon', '4': 'banana'}"
      ]
     },
     "execution_count": 47,
     "metadata": {},
     "output_type": "execute_result"
    }
   ],
   "source": [
    "my_dict_1 = {\"2\": \"apple\", \"1\": \"orange\", \"4\": \"banana\", \"3\": \"lemon\"}\n",
    "my_dict_2 = dict(sorted(my_dict_1.items(), key=lambda item: int(item[0])))\n",
    "my_dict_2"
   ]
  },
  {
   "cell_type": "markdown",
   "id": "0e9df7f7",
   "metadata": {},
   "source": [
    "### Sort a dictionary by its values"
   ]
  },
  {
   "cell_type": "code",
   "execution_count": 48,
   "id": "cceefa8e",
   "metadata": {},
   "outputs": [
    {
     "data": {
      "text/plain": [
       "{'orange': 1, 'apple': 2, 'lemon': 3, 'banana': 4}"
      ]
     },
     "execution_count": 48,
     "metadata": {},
     "output_type": "execute_result"
    }
   ],
   "source": [
    "my_dict_1 = {\"apple\": 2, \"orange\": 1, \"banana\": 4, \"lemon\": 3}\n",
    "my_dict_2 = dict(sorted(my_dict_1.items(), key=lambda item: item[1]))\n",
    "my_dict_2"
   ]
  },
  {
   "cell_type": "markdown",
   "id": "663e0984",
   "metadata": {},
   "source": [
    "### Sort a dictionary by its values applied with a function"
   ]
  },
  {
   "cell_type": "code",
   "execution_count": 49,
   "id": "5b41c274",
   "metadata": {},
   "outputs": [
    {
     "data": {
      "text/plain": [
       "{'orange': '1', 'apple': '2', 'lemon': '3', 'banana': '4'}"
      ]
     },
     "execution_count": 49,
     "metadata": {},
     "output_type": "execute_result"
    }
   ],
   "source": [
    "my_dict_1 = {\"apple\": \"2\", \"orange\": \"1\", \"banana\": \"4\", \"lemon\": \"3\"}\n",
    "my_dict_2 = dict(sorted(my_dict_1.items(), key=lambda item: int(item[1])))\n",
    "my_dict_2"
   ]
  },
  {
   "cell_type": "markdown",
   "id": "9cca9b50",
   "metadata": {},
   "source": [
    "### Reverse a dictionary"
   ]
  },
  {
   "cell_type": "code",
   "execution_count": 50,
   "id": "8a2b53ec",
   "metadata": {},
   "outputs": [
    {
     "data": {
      "text/plain": [
       "{'c': 3, 'b': 2, 'a': 1}"
      ]
     },
     "execution_count": 50,
     "metadata": {},
     "output_type": "execute_result"
    }
   ],
   "source": [
    "my_dict_1 = {\"a\": 1, \"b\": 2, \"c\": 3}\n",
    "my_dict_2 = dict(reversed(list(my_dict_1.items())))\n",
    "my_dict_2"
   ]
  },
  {
   "cell_type": "markdown",
   "id": "9fce6706",
   "metadata": {},
   "source": [
    "### Invert the keys and values of a dictionary"
   ]
  },
  {
   "cell_type": "code",
   "execution_count": 51,
   "id": "6ada23b1",
   "metadata": {},
   "outputs": [
    {
     "data": {
      "text/plain": [
       "{1: 'a', 2: 'b', 3: 'c'}"
      ]
     },
     "execution_count": 51,
     "metadata": {},
     "output_type": "execute_result"
    }
   ],
   "source": [
    "my_dict_1 = {\"a\": 1, \"b\": 2, \"c\": 3}\n",
    "my_dict_2 = {val: key for key, val in my_dict_1.items()}\n",
    "my_dict_2"
   ]
  },
  {
   "cell_type": "markdown",
   "id": "89e93731",
   "metadata": {},
   "source": [
    "### Remove items from a dictionary"
   ]
  },
  {
   "cell_type": "markdown",
   "id": "fd900141",
   "metadata": {},
   "source": [
    "#### Remove one item by key"
   ]
  },
  {
   "cell_type": "code",
   "execution_count": 52,
   "id": "93624336",
   "metadata": {},
   "outputs": [
    {
     "data": {
      "text/plain": [
       "{'a': 1, 'c': 3}"
      ]
     },
     "execution_count": 52,
     "metadata": {},
     "output_type": "execute_result"
    }
   ],
   "source": [
    "my_dict = {\"a\": 1, \"b\": 2, \"c\": 3}\n",
    "del my_dict[\"b\"]  # inplace\n",
    "my_dict"
   ]
  },
  {
   "cell_type": "markdown",
   "id": "20ad3fa0",
   "metadata": {},
   "source": [
    "#### Remove one item by key and return its value"
   ]
  },
  {
   "cell_type": "code",
   "execution_count": 53,
   "id": "c4543d6b",
   "metadata": {},
   "outputs": [
    {
     "data": {
      "text/plain": [
       "({'a': 1, 'c': 3}, 2)"
      ]
     },
     "execution_count": 53,
     "metadata": {},
     "output_type": "execute_result"
    }
   ],
   "source": [
    "my_dict = {\"a\": 1, \"b\": 2, \"c\": 3}\n",
    "item = my_dict.pop(\"b\")  # returns the value; inplace\n",
    "my_dict, item"
   ]
  },
  {
   "cell_type": "markdown",
   "id": "0d4b14b3",
   "metadata": {},
   "source": [
    "#### Remove all items"
   ]
  },
  {
   "cell_type": "code",
   "execution_count": 54,
   "id": "b583283b",
   "metadata": {},
   "outputs": [
    {
     "data": {
      "text/plain": [
       "{}"
      ]
     },
     "execution_count": 54,
     "metadata": {},
     "output_type": "execute_result"
    }
   ],
   "source": [
    "my_dict = {\"a\": 1, \"b\": 2, \"c\": 3}\n",
    "my_dict.clear()  # inplace\n",
    "my_dict"
   ]
  },
  {
   "cell_type": "markdown",
   "id": "d7f96787",
   "metadata": {},
   "source": [
    "### Merge two dictionaries"
   ]
  },
  {
   "cell_type": "code",
   "execution_count": 55,
   "id": "95634289",
   "metadata": {},
   "outputs": [
    {
     "data": {
      "text/plain": [
       "{'a': 1, 'b': 3, 'c': 4, 'd': 5}"
      ]
     },
     "execution_count": 55,
     "metadata": {},
     "output_type": "execute_result"
    }
   ],
   "source": [
    "my_dict_1 = {\"a\": 1, \"b\": 2, \"c\": 3}\n",
    "my_dict_2 = {\"b\": 3, \"c\": 4, \"d\": 5}\n",
    "\n",
    "my_dict_3 = my_dict_1 | my_dict_2  # uses the value from `my_dict_2` if a key exists in both\n",
    "my_dict_3"
   ]
  }
 ],
 "metadata": {
  "kernelspec": {
   "display_name": "global-venv",
   "language": "python",
   "name": "python3"
  },
  "language_info": {
   "codemirror_mode": {
    "name": "ipython",
    "version": 3
   },
   "file_extension": ".py",
   "mimetype": "text/x-python",
   "name": "python",
   "nbconvert_exporter": "python",
   "pygments_lexer": "ipython3",
   "version": "3.12.7"
  }
 },
 "nbformat": 4,
 "nbformat_minor": 5
}
